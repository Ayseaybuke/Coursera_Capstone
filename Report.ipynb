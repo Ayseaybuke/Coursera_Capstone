{
 "cells": [
  {
   "cell_type": "markdown",
   "metadata": {},
   "source": [
    "Introduction\n",
    "\n",
    "Canada is popular country for migrations and students. The aim of this study is to help students who are planning to move Toronto by providing the data about the restaurants locations, income and population data of each neighborhood. With these data students will make their accommodation wisely.\n"
   ]
  },
  {
   "cell_type": "markdown",
   "metadata": {},
   "source": [
    "Data\n",
    "\n",
    "I will be using 2016 Census that includes Population, Average income per Neighborhood and  Toronto’s Neighborhoods shapefile and Foursquare API to collect restaurants on the same neighborhoods. So that students will be choosing their neighborhood more wisely according to their budget, restaurant options and population of the neighborhood.\n",
    "\n"
   ]
  },
  {
   "cell_type": "markdown",
   "metadata": {},
   "source": [
    "Data will be taken from these sites: \n",
    "https://www.toronto.ca/city-government/data-research-maps/open-data/open-data-catalogue/#8c732154-5012-9afe-d0cd-ba3ffc813d5a\n",
    "https://www.toronto.ca/city-government/data-research-maps/open-data/open-data-catalogue/#a45bd45a-ede8-730e-1abc-93105b2c439f\n"
   ]
  },
  {
   "cell_type": "markdown",
   "metadata": {},
   "source": [
    "Methodology\n",
    "\n",
    "For this report I used a few different maps that could help students to decide the best neighborhood to move in Toronto based on it's income, population and restaurants in the neighborhood. In order to do that I've used the 2016 Census information combined with choropleth maps to display the wealthier/cheaper and populated or not neighborhoods and Foursquare data to display the current restaurants in each region.\n",
    "\n"
   ]
  },
  {
   "cell_type": "markdown",
   "metadata": {},
   "source": [
    "Results\n",
    "\n",
    "From the maps it can be seen that majority of the restaurants are on the South of the city and clustered on main streets. North of the city seems wealthier than the south. Population of neighborhood and number of the restaurants does not seem to be correlated.\n"
   ]
  },
  {
   "cell_type": "markdown",
   "metadata": {},
   "source": [
    "Discussion \n",
    "\n",
    "I think cheaper sides would be more appropriate for student accomodation. As densely populated areas do not have more restaurants than less denser areas I assume that they would be more proper to students.\n"
   ]
  },
  {
   "cell_type": "markdown",
   "metadata": {},
   "source": [
    "Conclusion\n",
    "\n",
    "This analyze can help to students who want make wisely decision on accommodation based on the population, income and restaurants. But for some students population or availability of restaurants may not be related to their preferences, there can be other factors that is prior for them.\n"
   ]
  },
  {
   "cell_type": "code",
   "execution_count": null,
   "metadata": {},
   "outputs": [],
   "source": []
  }
 ],
 "metadata": {
  "kernelspec": {
   "display_name": "Python 3",
   "language": "python",
   "name": "python3"
  },
  "language_info": {
   "codemirror_mode": {
    "name": "ipython",
    "version": 3
   },
   "file_extension": ".py",
   "mimetype": "text/x-python",
   "name": "python",
   "nbconvert_exporter": "python",
   "pygments_lexer": "ipython3",
   "version": "3.8.5"
  }
 },
 "nbformat": 4,
 "nbformat_minor": 4
}
